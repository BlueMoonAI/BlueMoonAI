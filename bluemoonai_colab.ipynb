{
  "cells": [
    {
      "cell_type": "markdown",
      "metadata": {
        "id": "view-in-github",
        "colab_type": "text"
      },
      "source": [
        "<a href=\"https://colab.research.google.com/github/BlueMoonAI/BlueMoonAI/blob/main/bluemoonai_colab.ipynb\" target=\"_parent\"><img src=\"https://colab.research.google.com/assets/colab-badge.svg\" alt=\"Open In Colab\"/></a>"
      ]
    },
    {
      "cell_type": "code",
      "source": [
        "\n",
        "\n",
        "# make sure to star the BlueMoon AI Repository ❤️🔥\n",
        "!pip install logly\n",
        "%cd /content\n",
        "!git clone https://github.com/BlueMoonAI/BlueMoonAI.git\n",
        "%cd /content/BlueMoonAI\n",
        "!pip install -r requirements.txt\n",
        "!python launcher.py --share\n",
        "\n",
        "\n"
      ],
      "metadata": {
        "id": "Ia3SenJGpROB"
      },
      "execution_count": null,
      "outputs": []
    }
  ],
  "metadata": {
    "colab": {
      "name": "Welcome To Colaboratory",
      "toc_visible": true,
      "provenance": [],
      "include_colab_link": true
    },
    "kernelspec": {
      "display_name": "Python 3",
      "name": "python3"
    }
  },
  "nbformat": 4,
  "nbformat_minor": 0
}
